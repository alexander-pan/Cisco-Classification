{
 "cells": [
  {
   "cell_type": "code",
   "execution_count": 189,
   "metadata": {
    "collapsed": false
   },
   "outputs": [
    {
     "name": "stdout",
     "output_type": "stream",
     "text": [
      "height has been deprecated.\n",
      "\n"
     ]
    }
   ],
   "source": [
    "import numpy as np\n",
    "import matplotlib.pyplot as plt\n",
    "import pandas as pd\n",
    "\n",
    "pd.set_option('display.height', 1000)\n",
    "pd.set_option('display.max_rows', 500)\n",
    "pd.set_option('display.max_columns', 500)\n",
    "pd.set_option('display.width', 1000)\n",
    "pd.set_option('display.float_format',lambda x:'%.3f' % x)\n",
    "%matplotlib inline\n",
    "plt.rcParams['figure.figsize'] = (5, 5)"
   ]
  },
  {
   "cell_type": "code",
   "execution_count": 176,
   "metadata": {
    "collapsed": true
   },
   "outputs": [],
   "source": [
    "def findNulls(df):\n",
    "    print \"cell with missing values: %d\" % sum(df.isnull().values.ravel())\n",
    "    print \"rows with missing values somwhere: %d\" % sum([True for idx,row in df.iterrows() if any(row.isnull())])\n",
    "    \n",
    "def getUniques(columns,df):\n",
    "    for col in columns:\n",
    "        print '%s distincts\\n' % col\n",
    "        print df[col].unique()\n",
    "        \n",
    "def getDataFrameStats(df):\n",
    "    print 'Contains %d elements' % df.shape[0]\n",
    "    findNulls(df)\n",
    "    \n",
    "def getDistinct(df,col):\n",
    "    return len(df[col].unique())\n",
    "\n",
    "def isEnglish(s):\n",
    "    try:\n",
    "        s.encode(encoding='utf-8').decode('ascii')\n",
    "    except UnicodeDecodeError:\n",
    "        return False\n",
    "    else:\n",
    "        return True"
   ]
  },
  {
   "cell_type": "code",
   "execution_count": 4,
   "metadata": {
    "collapsed": false
   },
   "outputs": [
    {
     "name": "stderr",
     "output_type": "stream",
     "text": [
      "/Users/alexanderpan/anaconda/lib/python2.7/site-packages/IPython/core/interactiveshell.py:2723: DtypeWarning: Columns (18,28,32,39,45,60,69,77,80,91,92,93,103,106,107,108,109,110,112,113,114,115,116,117,124,130,135,136,141,142,143,144,145,148,150,151,152,153,154,155,157,158,159,162,163,164,165,166,167,168,169,170,171,172,174,175,176,186,187,188,189) have mixed types. Specify dtype option on import or set low_memory=False.\n",
      "  interactivity=interactivity, compiler=compiler, result=result)\n"
     ]
    }
   ],
   "source": [
    "df1 = pd.read_csv('./dataset/CSC_LSanalysis_21.02.18.csv',index_col=0)\n",
    "df2 = pd.read_csv('./dataset/CSC_SFDC_Leads_Oct1-Feb21_All.csv',index_col=0)"
   ]
  },
  {
   "cell_type": "code",
   "execution_count": 6,
   "metadata": {
    "collapsed": true
   },
   "outputs": [],
   "source": [
    "cols = ['Email Address','Country','Job Level - Scoring Only','Job Function - Scoring Only',\n",
    "        'Region','Title','Job Title Class','Decision Maker Type','Job Level','State or Province',\n",
    "        'Business Relation Status','Rep Company Employees','Rep Vertical Market','Rep Account Type',\n",
    "        'Purchase Role','Rep Interests Networking','Persona','Rep Number Of PCs','Job Role','Department',\n",
    "        'Technical Score','Engagement Score','Rep Line Of Business','Rep Company Sites Country',\n",
    "        'Subject Interest 1','Rep Tech Responsibility','Industry','Rep Number Of Servers',\n",
    "        'Rep Number Of Phones']\n",
    "\n",
    "cols2 = ['Email','Lead Record Type','Lead Status','Converted'] #taking out create date\n",
    "df = df1[cols].merge(df2[cols2],how='inner',left_on='Email Address',right_on='Email')\n",
    "drop_cols = ['Email Address','Email']\n",
    "df.drop(drop_cols,axis=1,inplace=True)"
   ]
  },
  {
   "cell_type": "code",
   "execution_count": 48,
   "metadata": {
    "collapsed": false
   },
   "outputs": [],
   "source": [
    "region = ['AMER','GREATER CHINA','APJ','EMEAR']"
   ]
  },
  {
   "cell_type": "code",
   "execution_count": 143,
   "metadata": {
    "collapsed": false
   },
   "outputs": [],
   "source": [
    "df_AMER = df.loc[df['Region']=='AMER']\n",
    "df_CHINA = df.loc[df['Region']=='GREATER CHINA']\n",
    "df_APJ = df.loc[df['Region']=='APJ']\n",
    "df_EMEAR = df.loc[df['Region']=='EMEAR']\n"
   ]
  },
  {
   "cell_type": "code",
   "execution_count": 151,
   "metadata": {
    "collapsed": false
   },
   "outputs": [
    {
     "name": "stdout",
     "output_type": "stream",
     "text": [
      "Country: 68 119\n",
      "Job Level - Scoring Only: 28 259\n",
      "Job Function - Scoring Only: 87 259\n",
      "Region: 1 0\n",
      "Job Title Class: 37 17899\n",
      "Decision Maker Type: 5 18133\n",
      "Job Level: 6 20311\n",
      "State or Province: 703 26675\n",
      "Lead Record Type: 6 0\n",
      "Lead Status: 21 0\n"
     ]
    }
   ],
   "source": [
    "cols = df_AMER.columns.tolist()\n",
    "cols.remove('Converted')\n",
    "totes = df_AMER.shape[0]\n",
    "col = []\n",
    "for column in cols:\n",
    "    N = getDistinct(df_AMER,column)\n",
    "    n_null = df_AMER[column].isnull().sum()\n",
    "    not_null = float(totes-n_null)/totes\n",
    "    if N < 1000 and not_null >= .7:\n",
    "        print '%s: %d %d' %(column,N,n_null)\n",
    "        col.append(column)\n",
    "DF1  = df_AMER[col]"
   ]
  },
  {
   "cell_type": "code",
   "execution_count": 84,
   "metadata": {
    "collapsed": false
   },
   "outputs": [
    {
     "name": "stdout",
     "output_type": "stream",
     "text": [
      "24855\n",
      "3051\n"
     ]
    }
   ],
   "source": [
    "print df_CHINA.shape[0]\n",
    "print (df_CHINA['Converted'] == 1).sum()"
   ]
  },
  {
   "cell_type": "code",
   "execution_count": 177,
   "metadata": {
    "collapsed": false
   },
   "outputs": [
    {
     "name": "stdout",
     "output_type": "stream",
     "text": [
      "Country: 13 17\n",
      "Job Level - Scoring Only: 22 32\n",
      "Job Function - Scoring Only: 54 32\n",
      "Region: 1 0\n",
      "Job Title Class: 31 4458\n",
      "Decision Maker Type: 5 4566\n",
      "Business Relation Status: 7 1252\n",
      "Lead Record Type: 5 0\n",
      "Lead Status: 19 0\n"
     ]
    }
   ],
   "source": [
    "cols = df_CHINA.columns.tolist()\n",
    "cols.remove('Converted')\n",
    "totes = df_CHINA.shape[0]\n",
    "col = []\n",
    "temp = []\n",
    "for column in cols:\n",
    "    N = getDistinct(df_CHINA,column)\n",
    "    n_null = df_CHINA[column].isnull().sum()\n",
    "    not_null = float(totes-n_null)/totes\n",
    "    encoded = [unicode(x,'utf-8') for x in df_CHINA[column].unique() if pd.notnull(x)]\n",
    "    english=0\n",
    "    if N < 1000 and not_null >= .7:\n",
    "        for label in encoded:\n",
    "            if not isEnglish(label):\n",
    "                temp.append(column)\n",
    "                break\n",
    "            else:\n",
    "                english = 1\n",
    "        \n",
    "        if english == 1:\n",
    "            print '%s: %d %d' %(column,N,n_null)\n",
    "            col.append(column)\n",
    "                \n",
    "DF2  = df_CHINA[col]"
   ]
  },
  {
   "cell_type": "code",
   "execution_count": 178,
   "metadata": {
    "collapsed": false
   },
   "outputs": [
    {
     "name": "stdout",
     "output_type": "stream",
     "text": [
      "[]\n"
     ]
    },
    {
     "data": {
      "text/plain": [
       "['Country',\n",
       " 'Job Level - Scoring Only',\n",
       " 'Job Function - Scoring Only',\n",
       " 'Region',\n",
       " 'Job Title Class',\n",
       " 'Decision Maker Type',\n",
       " 'Business Relation Status',\n",
       " 'Lead Record Type',\n",
       " 'Lead Status']"
      ]
     },
     "execution_count": 178,
     "metadata": {},
     "output_type": "execute_result"
    }
   ],
   "source": [
    "print temp\n",
    "DF2.columns.tolist()"
   ]
  },
  {
   "cell_type": "code",
   "execution_count": 85,
   "metadata": {
    "collapsed": false
   },
   "outputs": [
    {
     "name": "stdout",
     "output_type": "stream",
     "text": [
      "48461\n",
      "1817\n"
     ]
    }
   ],
   "source": [
    "print df_APJ.shape[0]\n",
    "print (df_APJ['Converted'] == 1).sum()"
   ]
  },
  {
   "cell_type": "code",
   "execution_count": 184,
   "metadata": {
    "collapsed": false
   },
   "outputs": [
    {
     "name": "stdout",
     "output_type": "stream",
     "text": [
      "Country: 42 21\n",
      "Job Level - Scoring Only: 26 45\n",
      "Job Function - Scoring Only: 70 45\n",
      "Region: 1 0\n",
      "Job Title Class: 31 11740\n",
      "Decision Maker Type: 5 11753\n",
      "Lead Record Type: 6 0\n",
      "Lead Status: 21 0\n"
     ]
    }
   ],
   "source": [
    "cols = df_APJ.columns.tolist()\n",
    "cols.remove('Converted')\n",
    "totes = df_APJ.shape[0]\n",
    "col = []\n",
    "temp = []\n",
    "for column in cols:\n",
    "    N = getDistinct(df_APJ,column)\n",
    "    n_null = df_APJ[column].isnull().sum()\n",
    "    not_null = float(totes-n_null)/totes\n",
    "    encoded = [unicode(x,'utf-8') for x in df_APJ[column].unique() if pd.notnull(x)]\n",
    "    english=0\n",
    "    if N < 1000 and not_null >= .7:\n",
    "        for label in encoded:\n",
    "            if not isEnglish(label):\n",
    "                temp.append(column)\n",
    "                break\n",
    "            else:\n",
    "                english = 1\n",
    "        \n",
    "        if english == 1:\n",
    "            print '%s: %d %d' %(column,N,n_null)\n",
    "            col.append(column)\n",
    "                \n",
    "DF3  = df_APJ[col]"
   ]
  },
  {
   "cell_type": "code",
   "execution_count": 185,
   "metadata": {
    "collapsed": false
   },
   "outputs": [
    {
     "data": {
      "text/plain": [
       "['Country',\n",
       " 'Job Level - Scoring Only',\n",
       " 'Job Function - Scoring Only',\n",
       " 'Region',\n",
       " 'Job Title Class',\n",
       " 'Decision Maker Type',\n",
       " 'Lead Record Type',\n",
       " 'Lead Status']"
      ]
     },
     "execution_count": 185,
     "metadata": {},
     "output_type": "execute_result"
    }
   ],
   "source": [
    "DF3.columns.tolist()"
   ]
  },
  {
   "cell_type": "code",
   "execution_count": 86,
   "metadata": {
    "collapsed": false
   },
   "outputs": [
    {
     "name": "stdout",
     "output_type": "stream",
     "text": [
      "39190\n",
      "1375\n"
     ]
    }
   ],
   "source": [
    "print df_EMEAR.shape[0]\n",
    "print (df_EMEAR['Converted'] == 1).sum()"
   ]
  },
  {
   "cell_type": "code",
   "execution_count": 190,
   "metadata": {
    "collapsed": false
   },
   "outputs": [
    {
     "name": "stdout",
     "output_type": "stream",
     "text": [
      "Country: 42 57\n",
      "Job Level - Scoring Only: 26 74\n",
      "Job Function - Scoring Only: 70 74\n",
      "Region: 1 0\n",
      "Job Title Class: 31 10595\n",
      "Decision Maker Type: 5 10599\n",
      "Job Level: 5 11142\n",
      "Lead Record Type: 6 0\n",
      "Lead Status: 21 0\n"
     ]
    }
   ],
   "source": [
    "cols = df_EMEAR.columns.tolist()\n",
    "cols.remove('Converted')\n",
    "totes = df_APJ.shape[0]\n",
    "col = []\n",
    "for column in cols:\n",
    "    N = getDistinct(df_APJ,column)\n",
    "    n_null = df_EMEAR[column].isnull().sum()\n",
    "    not_null = float(totes-n_null)/totes\n",
    "    encoded = [unicode(x,'utf-8') for x in df_APJ[column].unique() if pd.notnull(x)]\n",
    "    english=0\n",
    "    if N < 1000 and not_null >= .7:\n",
    "        for label in encoded:\n",
    "            if not isEnglish(label):\n",
    "                temp.append(column)\n",
    "                break\n",
    "            else:\n",
    "                english = 1\n",
    "        \n",
    "        if english == 1:\n",
    "            print '%s: %d %d' %(column,N,n_null)\n",
    "            col.append(column)\n",
    "                \n",
    "DF4  = df_EMEAR[col]"
   ]
  },
  {
   "cell_type": "code",
   "execution_count": 191,
   "metadata": {
    "collapsed": false
   },
   "outputs": [
    {
     "data": {
      "text/plain": [
       "['Country',\n",
       " 'Job Level - Scoring Only',\n",
       " 'Job Function - Scoring Only',\n",
       " 'Region',\n",
       " 'Job Title Class',\n",
       " 'Decision Maker Type',\n",
       " 'Job Level',\n",
       " 'Lead Record Type',\n",
       " 'Lead Status']"
      ]
     },
     "execution_count": 191,
     "metadata": {},
     "output_type": "execute_result"
    }
   ],
   "source": [
    "DF4.columns.tolist()"
   ]
  },
  {
   "cell_type": "code",
   "execution_count": 87,
   "metadata": {
    "collapsed": false
   },
   "outputs": [
    {
     "name": "stdout",
     "output_type": "stream",
     "text": [
      "96983\n",
      "1792\n"
     ]
    }
   ],
   "source": [
    "print df_AMER.shape[0]\n",
    "print (df_AMER['Converted'] == 1).sum()"
   ]
  },
  {
   "cell_type": "code",
   "execution_count": null,
   "metadata": {
    "collapsed": true
   },
   "outputs": [],
   "source": []
  }
 ],
 "metadata": {
  "anaconda-cloud": {},
  "kernelspec": {
   "display_name": "Python [Root]",
   "language": "python",
   "name": "Python [Root]"
  },
  "language_info": {
   "codemirror_mode": {
    "name": "ipython",
    "version": 2
   },
   "file_extension": ".py",
   "mimetype": "text/x-python",
   "name": "python",
   "nbconvert_exporter": "python",
   "pygments_lexer": "ipython2",
   "version": "2.7.12"
  }
 },
 "nbformat": 4,
 "nbformat_minor": 2
}
